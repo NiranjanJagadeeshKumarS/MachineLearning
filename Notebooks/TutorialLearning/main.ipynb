{
 "cells": [
  {
   "cell_type": "code",
   "execution_count": 1,
   "id": "86b3cb37",
   "metadata": {},
   "outputs": [
    {
     "name": "stderr",
     "output_type": "stream",
     "text": [
      "2025-09-09 21:58:58.976023: I tensorflow/core/util/port.cc:153] oneDNN custom operations are on. You may see slightly different numerical results due to floating-point round-off errors from different computation orders. To turn them off, set the environment variable `TF_ENABLE_ONEDNN_OPTS=0`.\n",
      "2025-09-09 21:58:58.991594: E external/local_xla/xla/stream_executor/cuda/cuda_fft.cc:477] Unable to register cuFFT factory: Attempting to register factory for plugin cuFFT when one has already been registered\n",
      "WARNING: All log messages before absl::InitializeLog() is called are written to STDERR\n",
      "E0000 00:00:1757435339.009849   24199 cuda_dnn.cc:8310] Unable to register cuDNN factory: Attempting to register factory for plugin cuDNN when one has already been registered\n",
      "E0000 00:00:1757435339.015520   24199 cuda_blas.cc:1418] Unable to register cuBLAS factory: Attempting to register factory for plugin cuBLAS when one has already been registered\n",
      "2025-09-09 21:58:59.034886: I tensorflow/core/platform/cpu_feature_guard.cc:210] This TensorFlow binary is optimized to use available CPU instructions in performance-critical operations.\n",
      "To enable the following instructions: SSE4.1 SSE4.2 AVX AVX2 AVX_VNNI FMA, in other operations, rebuild TensorFlow with the appropriate compiler flags.\n"
     ]
    }
   ],
   "source": [
    "import tensorflow as tf"
   ]
  },
  {
   "cell_type": "code",
   "execution_count": null,
   "id": "ea04977f",
   "metadata": {},
   "outputs": [
    {
     "name": "stdout",
     "output_type": "stream",
     "text": [
      "<tf.Variable 'Variable:0' shape=(2, 2) dtype=string, numpy=\n",
      "array([[b'Hello', b'World'],\n",
      "       [b'Nice To', b'Meet You']], dtype=object)>\n",
      "\n",
      "<tf.Variable 'Variable:0' shape=(3, 3) dtype=int32, numpy=\n",
      "array([[ 3, 34,  5],\n",
      "       [34,  5,  2],\n",
      "       [98,  6,  2]], dtype=int32)>\n"
     ]
    }
   ],
   "source": [
    "#Variable types in Tensorflow \n",
    "\n",
    "String = tf.Variable(\"Hello World\", tf.string)\n",
    "\n",
    "Integer= tf.Variable(32,tf.int16) #tf.int8, tf.int16,.....\n",
    "\n",
    "Float = tf.Variable(343.34534, tf.float32) #tf.float8, tf.float16, tf.float32,....\n",
    "\n",
    "Tensor1= tf.Variable([[\"Hello\",\"World\"],[\"Nice To\",\"Meet You\"]],tf.string)\n",
    "\n",
    "print(Tensor1)\n",
    "\n",
    "print(\"\")\n",
    "Tensor2= tf.Variable([[3,34,5],[34,5,2],[98,6,2]], tf.int16)\n",
    "\n",
    "print(Tensor2)\n",
    "\n",
    "TensorOnes = tf.ones([3,3,3])\n",
    "\n",
    "TensorZeros= tf.zeros(5,3,2)"
   ]
  }
 ],
 "metadata": {
  "kernelspec": {
   "display_name": "TensorflowGPU1",
   "language": "python",
   "name": "python3"
  },
  "language_info": {
   "codemirror_mode": {
    "name": "ipython",
    "version": 3
   },
   "file_extension": ".py",
   "mimetype": "text/x-python",
   "name": "python",
   "nbconvert_exporter": "python",
   "pygments_lexer": "ipython3",
   "version": "3.10.18"
  }
 },
 "nbformat": 4,
 "nbformat_minor": 5
}
